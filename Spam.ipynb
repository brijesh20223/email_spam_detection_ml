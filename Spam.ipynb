{
 "cells": [
  {
   "cell_type": "code",
   "execution_count": 1,
   "id": "d4815bb9",
   "metadata": {},
   "outputs": [],
   "source": [
    "import pandas as pd\n",
    "import numpy as np"
   ]
  },
  {
   "cell_type": "code",
   "execution_count": 2,
   "id": "9c26f298",
   "metadata": {},
   "outputs": [],
   "source": [
    "df = pd.read_csv( \"mail_data1.csv\")"
   ]
  },
  {
   "cell_type": "code",
   "execution_count": 3,
   "id": "a54b46e2",
   "metadata": {},
   "outputs": [
    {
     "data": {
      "text/html": [
       "<div>\n",
       "<style scoped>\n",
       "    .dataframe tbody tr th:only-of-type {\n",
       "        vertical-align: middle;\n",
       "    }\n",
       "\n",
       "    .dataframe tbody tr th {\n",
       "        vertical-align: top;\n",
       "    }\n",
       "\n",
       "    .dataframe thead th {\n",
       "        text-align: right;\n",
       "    }\n",
       "</style>\n",
       "<table border=\"1\" class=\"dataframe\">\n",
       "  <thead>\n",
       "    <tr style=\"text-align: right;\">\n",
       "      <th></th>\n",
       "      <th>Category</th>\n",
       "      <th>Message</th>\n",
       "    </tr>\n",
       "  </thead>\n",
       "  <tbody>\n",
       "    <tr>\n",
       "      <th>0</th>\n",
       "      <td>ham</td>\n",
       "      <td>Go until jurong point, crazy.. Available only ...</td>\n",
       "    </tr>\n",
       "    <tr>\n",
       "      <th>1</th>\n",
       "      <td>ham</td>\n",
       "      <td>Ok lar... Joking wif u oni...</td>\n",
       "    </tr>\n",
       "    <tr>\n",
       "      <th>2</th>\n",
       "      <td>spam</td>\n",
       "      <td>Free entry in 2 a wkly comp to win FA Cup fina...</td>\n",
       "    </tr>\n",
       "    <tr>\n",
       "      <th>3</th>\n",
       "      <td>ham</td>\n",
       "      <td>U dun say so early hor... U c already then say...</td>\n",
       "    </tr>\n",
       "    <tr>\n",
       "      <th>4</th>\n",
       "      <td>ham</td>\n",
       "      <td>Nah I don't think he goes to usf, he lives aro...</td>\n",
       "    </tr>\n",
       "    <tr>\n",
       "      <th>...</th>\n",
       "      <td>...</td>\n",
       "      <td>...</td>\n",
       "    </tr>\n",
       "    <tr>\n",
       "      <th>5567</th>\n",
       "      <td>spam</td>\n",
       "      <td>This is the 2nd time we have tried 2 contact u...</td>\n",
       "    </tr>\n",
       "    <tr>\n",
       "      <th>5568</th>\n",
       "      <td>ham</td>\n",
       "      <td>Will ü b going to esplanade fr home?</td>\n",
       "    </tr>\n",
       "    <tr>\n",
       "      <th>5569</th>\n",
       "      <td>ham</td>\n",
       "      <td>Pity, * was in mood for that. So...any other s...</td>\n",
       "    </tr>\n",
       "    <tr>\n",
       "      <th>5570</th>\n",
       "      <td>ham</td>\n",
       "      <td>The guy did some bitching but I acted like i'd...</td>\n",
       "    </tr>\n",
       "    <tr>\n",
       "      <th>5571</th>\n",
       "      <td>ham</td>\n",
       "      <td>Rofl. Its true to its name</td>\n",
       "    </tr>\n",
       "  </tbody>\n",
       "</table>\n",
       "<p>5572 rows × 2 columns</p>\n",
       "</div>"
      ],
      "text/plain": [
       "     Category                                            Message\n",
       "0         ham  Go until jurong point, crazy.. Available only ...\n",
       "1         ham                      Ok lar... Joking wif u oni...\n",
       "2        spam  Free entry in 2 a wkly comp to win FA Cup fina...\n",
       "3         ham  U dun say so early hor... U c already then say...\n",
       "4         ham  Nah I don't think he goes to usf, he lives aro...\n",
       "...       ...                                                ...\n",
       "5567     spam  This is the 2nd time we have tried 2 contact u...\n",
       "5568      ham               Will ü b going to esplanade fr home?\n",
       "5569      ham  Pity, * was in mood for that. So...any other s...\n",
       "5570      ham  The guy did some bitching but I acted like i'd...\n",
       "5571      ham                         Rofl. Its true to its name\n",
       "\n",
       "[5572 rows x 2 columns]"
      ]
     },
     "execution_count": 3,
     "metadata": {},
     "output_type": "execute_result"
    }
   ],
   "source": [
    "df"
   ]
  },
  {
   "cell_type": "code",
   "execution_count": 4,
   "id": "ba8fe241",
   "metadata": {},
   "outputs": [],
   "source": [
    "df['label_tag']=df[\"Category\"].map({\"ham\":0,\"spam\":1})"
   ]
  },
  {
   "cell_type": "code",
   "execution_count": 5,
   "id": "ff503e0c",
   "metadata": {
    "scrolled": true
   },
   "outputs": [
    {
     "data": {
      "text/html": [
       "<div>\n",
       "<style scoped>\n",
       "    .dataframe tbody tr th:only-of-type {\n",
       "        vertical-align: middle;\n",
       "    }\n",
       "\n",
       "    .dataframe tbody tr th {\n",
       "        vertical-align: top;\n",
       "    }\n",
       "\n",
       "    .dataframe thead th {\n",
       "        text-align: right;\n",
       "    }\n",
       "</style>\n",
       "<table border=\"1\" class=\"dataframe\">\n",
       "  <thead>\n",
       "    <tr style=\"text-align: right;\">\n",
       "      <th></th>\n",
       "      <th>Category</th>\n",
       "      <th>Message</th>\n",
       "      <th>label_tag</th>\n",
       "    </tr>\n",
       "  </thead>\n",
       "  <tbody>\n",
       "    <tr>\n",
       "      <th>0</th>\n",
       "      <td>ham</td>\n",
       "      <td>Go until jurong point, crazy.. Available only ...</td>\n",
       "      <td>0</td>\n",
       "    </tr>\n",
       "    <tr>\n",
       "      <th>1</th>\n",
       "      <td>ham</td>\n",
       "      <td>Ok lar... Joking wif u oni...</td>\n",
       "      <td>0</td>\n",
       "    </tr>\n",
       "    <tr>\n",
       "      <th>2</th>\n",
       "      <td>spam</td>\n",
       "      <td>Free entry in 2 a wkly comp to win FA Cup fina...</td>\n",
       "      <td>1</td>\n",
       "    </tr>\n",
       "    <tr>\n",
       "      <th>3</th>\n",
       "      <td>ham</td>\n",
       "      <td>U dun say so early hor... U c already then say...</td>\n",
       "      <td>0</td>\n",
       "    </tr>\n",
       "    <tr>\n",
       "      <th>4</th>\n",
       "      <td>ham</td>\n",
       "      <td>Nah I don't think he goes to usf, he lives aro...</td>\n",
       "      <td>0</td>\n",
       "    </tr>\n",
       "  </tbody>\n",
       "</table>\n",
       "</div>"
      ],
      "text/plain": [
       "  Category                                            Message  label_tag\n",
       "0      ham  Go until jurong point, crazy.. Available only ...          0\n",
       "1      ham                      Ok lar... Joking wif u oni...          0\n",
       "2     spam  Free entry in 2 a wkly comp to win FA Cup fina...          1\n",
       "3      ham  U dun say so early hor... U c already then say...          0\n",
       "4      ham  Nah I don't think he goes to usf, he lives aro...          0"
      ]
     },
     "execution_count": 5,
     "metadata": {},
     "output_type": "execute_result"
    }
   ],
   "source": [
    "df.head()"
   ]
  },
  {
   "cell_type": "code",
   "execution_count": 6,
   "id": "883908fa",
   "metadata": {},
   "outputs": [],
   "source": [
    "y = df.label_tag"
   ]
  },
  {
   "cell_type": "code",
   "execution_count": 7,
   "id": "a61fcc2c",
   "metadata": {},
   "outputs": [
    {
     "data": {
      "text/plain": [
       "0       0\n",
       "1       0\n",
       "2       1\n",
       "3       0\n",
       "4       0\n",
       "       ..\n",
       "5567    1\n",
       "5568    0\n",
       "5569    0\n",
       "5570    0\n",
       "5571    0\n",
       "Name: label_tag, Length: 5572, dtype: int64"
      ]
     },
     "execution_count": 7,
     "metadata": {},
     "output_type": "execute_result"
    }
   ],
   "source": [
    "y"
   ]
  },
  {
   "cell_type": "code",
   "execution_count": 8,
   "id": "b653763d",
   "metadata": {},
   "outputs": [],
   "source": [
    "X=df.loc[:, ['Message','label_tag']]"
   ]
  },
  {
   "cell_type": "code",
   "execution_count": 9,
   "id": "7a2615ff",
   "metadata": {},
   "outputs": [
    {
     "data": {
      "text/html": [
       "<div>\n",
       "<style scoped>\n",
       "    .dataframe tbody tr th:only-of-type {\n",
       "        vertical-align: middle;\n",
       "    }\n",
       "\n",
       "    .dataframe tbody tr th {\n",
       "        vertical-align: top;\n",
       "    }\n",
       "\n",
       "    .dataframe thead th {\n",
       "        text-align: right;\n",
       "    }\n",
       "</style>\n",
       "<table border=\"1\" class=\"dataframe\">\n",
       "  <thead>\n",
       "    <tr style=\"text-align: right;\">\n",
       "      <th></th>\n",
       "      <th>Message</th>\n",
       "      <th>label_tag</th>\n",
       "    </tr>\n",
       "  </thead>\n",
       "  <tbody>\n",
       "    <tr>\n",
       "      <th>0</th>\n",
       "      <td>Go until jurong point, crazy.. Available only ...</td>\n",
       "      <td>0</td>\n",
       "    </tr>\n",
       "    <tr>\n",
       "      <th>1</th>\n",
       "      <td>Ok lar... Joking wif u oni...</td>\n",
       "      <td>0</td>\n",
       "    </tr>\n",
       "    <tr>\n",
       "      <th>2</th>\n",
       "      <td>Free entry in 2 a wkly comp to win FA Cup fina...</td>\n",
       "      <td>1</td>\n",
       "    </tr>\n",
       "    <tr>\n",
       "      <th>3</th>\n",
       "      <td>U dun say so early hor... U c already then say...</td>\n",
       "      <td>0</td>\n",
       "    </tr>\n",
       "    <tr>\n",
       "      <th>4</th>\n",
       "      <td>Nah I don't think he goes to usf, he lives aro...</td>\n",
       "      <td>0</td>\n",
       "    </tr>\n",
       "    <tr>\n",
       "      <th>...</th>\n",
       "      <td>...</td>\n",
       "      <td>...</td>\n",
       "    </tr>\n",
       "    <tr>\n",
       "      <th>5567</th>\n",
       "      <td>This is the 2nd time we have tried 2 contact u...</td>\n",
       "      <td>1</td>\n",
       "    </tr>\n",
       "    <tr>\n",
       "      <th>5568</th>\n",
       "      <td>Will ü b going to esplanade fr home?</td>\n",
       "      <td>0</td>\n",
       "    </tr>\n",
       "    <tr>\n",
       "      <th>5569</th>\n",
       "      <td>Pity, * was in mood for that. So...any other s...</td>\n",
       "      <td>0</td>\n",
       "    </tr>\n",
       "    <tr>\n",
       "      <th>5570</th>\n",
       "      <td>The guy did some bitching but I acted like i'd...</td>\n",
       "      <td>0</td>\n",
       "    </tr>\n",
       "    <tr>\n",
       "      <th>5571</th>\n",
       "      <td>Rofl. Its true to its name</td>\n",
       "      <td>0</td>\n",
       "    </tr>\n",
       "  </tbody>\n",
       "</table>\n",
       "<p>5572 rows × 2 columns</p>\n",
       "</div>"
      ],
      "text/plain": [
       "                                                Message  label_tag\n",
       "0     Go until jurong point, crazy.. Available only ...          0\n",
       "1                         Ok lar... Joking wif u oni...          0\n",
       "2     Free entry in 2 a wkly comp to win FA Cup fina...          1\n",
       "3     U dun say so early hor... U c already then say...          0\n",
       "4     Nah I don't think he goes to usf, he lives aro...          0\n",
       "...                                                 ...        ...\n",
       "5567  This is the 2nd time we have tried 2 contact u...          1\n",
       "5568               Will ü b going to esplanade fr home?          0\n",
       "5569  Pity, * was in mood for that. So...any other s...          0\n",
       "5570  The guy did some bitching but I acted like i'd...          0\n",
       "5571                         Rofl. Its true to its name          0\n",
       "\n",
       "[5572 rows x 2 columns]"
      ]
     },
     "execution_count": 9,
     "metadata": {},
     "output_type": "execute_result"
    }
   ],
   "source": [
    "X"
   ]
  },
  {
   "cell_type": "code",
   "execution_count": 10,
   "id": "6f013599",
   "metadata": {},
   "outputs": [],
   "source": [
    "from sklearn.model_selection import train_test_split\n",
    "X_train, X_test, y_train, y_test=train_test_split(X, y, test_size=0.15, random_state=8)"
   ]
  },
  {
   "cell_type": "code",
   "execution_count": 11,
   "id": "87b45c4d",
   "metadata": {},
   "outputs": [
    {
     "data": {
      "text/html": [
       "<div>\n",
       "<style scoped>\n",
       "    .dataframe tbody tr th:only-of-type {\n",
       "        vertical-align: middle;\n",
       "    }\n",
       "\n",
       "    .dataframe tbody tr th {\n",
       "        vertical-align: top;\n",
       "    }\n",
       "\n",
       "    .dataframe thead th {\n",
       "        text-align: right;\n",
       "    }\n",
       "</style>\n",
       "<table border=\"1\" class=\"dataframe\">\n",
       "  <thead>\n",
       "    <tr style=\"text-align: right;\">\n",
       "      <th></th>\n",
       "      <th>Message</th>\n",
       "      <th>label_tag</th>\n",
       "    </tr>\n",
       "  </thead>\n",
       "  <tbody>\n",
       "    <tr>\n",
       "      <th>2718</th>\n",
       "      <td>Okie.. Thanx..</td>\n",
       "      <td>0</td>\n",
       "    </tr>\n",
       "    <tr>\n",
       "      <th>4958</th>\n",
       "      <td>I'm vivek:)i got call from your number.</td>\n",
       "      <td>0</td>\n",
       "    </tr>\n",
       "    <tr>\n",
       "      <th>2153</th>\n",
       "      <td>Hi kindly give us back our documents which we ...</td>\n",
       "      <td>0</td>\n",
       "    </tr>\n",
       "    <tr>\n",
       "      <th>1456</th>\n",
       "      <td>Summers finally here! Fancy a chat or flirt wi...</td>\n",
       "      <td>1</td>\n",
       "    </tr>\n",
       "    <tr>\n",
       "      <th>1960</th>\n",
       "      <td>Howz that persons story</td>\n",
       "      <td>0</td>\n",
       "    </tr>\n",
       "    <tr>\n",
       "      <th>...</th>\n",
       "      <td>...</td>\n",
       "      <td>...</td>\n",
       "    </tr>\n",
       "    <tr>\n",
       "      <th>2181</th>\n",
       "      <td>Babe ! How goes that day ? What are you doing ...</td>\n",
       "      <td>0</td>\n",
       "    </tr>\n",
       "    <tr>\n",
       "      <th>2409</th>\n",
       "      <td>Dear where you will be when i reach there</td>\n",
       "      <td>0</td>\n",
       "    </tr>\n",
       "    <tr>\n",
       "      <th>2033</th>\n",
       "      <td>Yes, i'm small kid.. And boost is the secret o...</td>\n",
       "      <td>0</td>\n",
       "    </tr>\n",
       "    <tr>\n",
       "      <th>1364</th>\n",
       "      <td>Yetunde, i'm sorry but moji and i seem too bus...</td>\n",
       "      <td>0</td>\n",
       "    </tr>\n",
       "    <tr>\n",
       "      <th>4547</th>\n",
       "      <td>Never try alone to take the weight of a tear t...</td>\n",
       "      <td>0</td>\n",
       "    </tr>\n",
       "  </tbody>\n",
       "</table>\n",
       "<p>4736 rows × 2 columns</p>\n",
       "</div>"
      ],
      "text/plain": [
       "                                                Message  label_tag\n",
       "2718                                     Okie.. Thanx..          0\n",
       "4958            I'm vivek:)i got call from your number.          0\n",
       "2153  Hi kindly give us back our documents which we ...          0\n",
       "1456  Summers finally here! Fancy a chat or flirt wi...          1\n",
       "1960                            Howz that persons story          0\n",
       "...                                                 ...        ...\n",
       "2181  Babe ! How goes that day ? What are you doing ...          0\n",
       "2409          Dear where you will be when i reach there          0\n",
       "2033  Yes, i'm small kid.. And boost is the secret o...          0\n",
       "1364  Yetunde, i'm sorry but moji and i seem too bus...          0\n",
       "4547  Never try alone to take the weight of a tear t...          0\n",
       "\n",
       "[4736 rows x 2 columns]"
      ]
     },
     "execution_count": 11,
     "metadata": {},
     "output_type": "execute_result"
    }
   ],
   "source": [
    "X_train"
   ]
  },
  {
   "cell_type": "code",
   "execution_count": 12,
   "id": "988a55ef",
   "metadata": {},
   "outputs": [
    {
     "data": {
      "text/plain": [
       "2718    0\n",
       "4958    0\n",
       "2153    0\n",
       "1456    1\n",
       "1960    0\n",
       "       ..\n",
       "2181    0\n",
       "2409    0\n",
       "2033    0\n",
       "1364    0\n",
       "4547    0\n",
       "Name: label_tag, Length: 4736, dtype: int64"
      ]
     },
     "execution_count": 12,
     "metadata": {},
     "output_type": "execute_result"
    }
   ],
   "source": [
    "y_train"
   ]
  },
  {
   "cell_type": "code",
   "execution_count": 13,
   "id": "ff035c9c",
   "metadata": {},
   "outputs": [],
   "source": [
    "from sklearn.feature_extraction.text import TfidfVectorizer"
   ]
  },
  {
   "cell_type": "code",
   "execution_count": 14,
   "id": "8ad67884",
   "metadata": {},
   "outputs": [],
   "source": [
    "feature_extraction  = TfidfVectorizer(min_df = 1,stop_words = 'english', lowercase = 'True')"
   ]
  },
  {
   "cell_type": "code",
   "execution_count": 15,
   "id": "1c8a95ca",
   "metadata": {},
   "outputs": [],
   "source": [
    "x_train_feature = feature_extraction.fit_transform(X_train.Message)"
   ]
  },
  {
   "cell_type": "code",
   "execution_count": 16,
   "id": "74eb0c44",
   "metadata": {},
   "outputs": [
    {
     "name": "stdout",
     "output_type": "stream",
     "text": [
      "(4736, 7713)\n"
     ]
    }
   ],
   "source": [
    "print(x_train_feature.shape)"
   ]
  },
  {
   "cell_type": "code",
   "execution_count": 17,
   "id": "d5586961",
   "metadata": {},
   "outputs": [
    {
     "name": "stdout",
     "output_type": "stream",
     "text": [
      "  (0, 6801)\t0.6846768515636633\n",
      "  (0, 4912)\t0.7288467664282178\n",
      "  (1, 4846)\t0.47791074416319484\n",
      "  (1, 3188)\t0.3945908594281638\n",
      "  (1, 7296)\t0.7847925676693965\n",
      "  (2, 6436)\t0.454877518844816\n",
      "  (2, 4167)\t0.376864970532425\n",
      "  (2, 6550)\t0.454877518844816\n",
      "  (2, 2388)\t0.454877518844816\n",
      "  (2, 3941)\t0.41892579320428125\n",
      "  (2, 3416)\t0.24846187297553401\n",
      "  (3, 3395)\t0.2978781888372541\n",
      "  (3, 6491)\t0.161459574677351\n",
      "  (3, 7070)\t0.1545603352851975\n",
      "  (3, 4962)\t0.26056323029252154\n",
      "  (3, 3834)\t0.2134769950942071\n",
      "  (3, 2977)\t0.14163135493433268\n",
      "  (3, 6592)\t0.25532741936383624\n",
      "  (3, 5715)\t0.1596715018941583\n",
      "  (3, 3873)\t0.12746357482902668\n",
      "  (3, 4389)\t0.2978781888372541\n",
      "  (3, 1060)\t0.2467913893469463\n",
      "  (3, 7688)\t0.231784301764679\n",
      "  (3, 6176)\t0.26056323029252154\n",
      "  (3, 6047)\t0.21643238341343332\n",
      "  :\t:\n",
      "  (4734, 4563)\t0.3236523696792895\n",
      "  (4734, 784)\t0.25900960560514685\n",
      "  (4734, 7638)\t0.29942964296124935\n",
      "  (4734, 4471)\t0.3328481299527506\n",
      "  (4734, 7362)\t0.2625953501142217\n",
      "  (4734, 6110)\t0.2625953501142217\n",
      "  (4734, 1584)\t0.2665230888274364\n",
      "  (4734, 7394)\t0.2064134688047332\n",
      "  (4734, 6322)\t0.18907021180224542\n",
      "  (4734, 2977)\t0.17183997445099664\n",
      "  (4734, 5715)\t0.1937279129947321\n",
      "  (4734, 3873)\t0.15465034174253375\n",
      "  (4735, 6067)\t0.30042884081823507\n",
      "  (4735, 2756)\t0.32279403306232934\n",
      "  (4735, 2732)\t0.28617423281428467\n",
      "  (4735, 6730)\t0.30042884081823507\n",
      "  (4735, 7428)\t0.30042884081823507\n",
      "  (4735, 5683)\t0.24955443256624008\n",
      "  (4735, 6542)\t0.27272703132521203\n",
      "  (4735, 1920)\t0.2626831840582266\n",
      "  (4735, 2999)\t0.2269615174086985\n",
      "  (4735, 1547)\t0.29038499355124964\n",
      "  (4735, 7036)\t0.22518499101877426\n",
      "  (4735, 3373)\t0.23282056383776703\n",
      "  (4735, 7179)\t0.3110100993543092\n"
     ]
    }
   ],
   "source": [
    "print(x_train_feature)"
   ]
  },
  {
   "cell_type": "code",
   "execution_count": 18,
   "id": "7fa4a535",
   "metadata": {
    "scrolled": true
   },
   "outputs": [],
   "source": [
    "x_test_feature = feature_extraction.transform(X_test.Message)"
   ]
  },
  {
   "cell_type": "code",
   "execution_count": 19,
   "id": "c3c4ac4b",
   "metadata": {},
   "outputs": [
    {
     "name": "stdout",
     "output_type": "stream",
     "text": [
      "  (0, 7458)\t0.5599474779457746\n",
      "  (0, 5913)\t0.5157204525602583\n",
      "  (0, 5219)\t0.5060558382244011\n",
      "  (0, 3412)\t0.4054611268077462\n",
      "  (1, 7478)\t0.19750502991492766\n",
      "  (1, 7439)\t0.18766729699933413\n",
      "  (1, 7394)\t0.1464470151857201\n",
      "  (1, 7179)\t0.11376472249583655\n",
      "  (1, 7028)\t0.18766729699933413\n",
      "  (1, 6129)\t0.23615036084608085\n",
      "  (1, 6029)\t0.21588421080047696\n",
      "  (1, 4764)\t0.158989934718793\n",
      "  (1, 4349)\t0.24456157308101809\n",
      "  (1, 4270)\t0.17925608476439686\n",
      "  (1, 4229)\t0.2093599677255943\n",
      "  (1, 3917)\t0.24456157308101809\n",
      "  (1, 2379)\t0.2093599677255943\n",
      "  (1, 2224)\t0.21244048522474762\n",
      "  (1, 2192)\t0.12389293725373673\n",
      "  (1, 2151)\t0.13719798418858892\n",
      "  (1, 2060)\t0.19059352456699194\n",
      "  (1, 1789)\t0.22962611777119815\n",
      "  (1, 1655)\t0.16059976555582725\n",
      "  (1, 1284)\t0.24456157308101809\n",
      "  (1, 981)\t0.4187199354511886\n",
      "  :\t:\n",
      "  (832, 4492)\t0.478497098813553\n",
      "  (832, 4340)\t0.2537790049513543\n",
      "  (832, 3502)\t0.19019762568859092\n",
      "  (832, 3083)\t0.2136636210013656\n",
      "  (832, 1753)\t0.22726417841101249\n",
      "  (832, 1752)\t0.2136636210013656\n",
      "  (832, 1747)\t0.1649983499017657\n",
      "  (832, 741)\t0.2537790049513543\n",
      "  (832, 576)\t0.24204600729496695\n",
      "  (832, 272)\t0.18573694700385127\n",
      "  (832, 110)\t0.2136636210013656\n",
      "  (832, 94)\t0.2537790049513543\n",
      "  (833, 5929)\t0.7293210157225118\n",
      "  (833, 3416)\t0.6841716568416758\n",
      "  (834, 6916)\t0.30139800527133065\n",
      "  (834, 5606)\t0.5161552440739144\n",
      "  (834, 3562)\t0.496799114352997\n",
      "  (834, 3416)\t0.32230808532273836\n",
      "  (834, 2485)\t0.4385994411319337\n",
      "  (834, 2151)\t0.3157240484756974\n",
      "  (835, 7179)\t0.2716345603040595\n",
      "  (835, 4837)\t0.45507769989462693\n",
      "  (835, 3963)\t0.48715806307858145\n",
      "  (835, 3009)\t0.48157021001965233\n",
      "  (835, 1111)\t0.4998860941316421\n"
     ]
    }
   ],
   "source": [
    "print(x_test_feature)"
   ]
  },
  {
   "cell_type": "code",
   "execution_count": 20,
   "id": "5f7ce889",
   "metadata": {},
   "outputs": [],
   "source": [
    "y_train = y_train.astype('int')\n",
    "y_test = y_test.astype('int')"
   ]
  },
  {
   "cell_type": "code",
   "execution_count": 21,
   "id": "f8fe3e33",
   "metadata": {},
   "outputs": [],
   "source": [
    "from sklearn.neural_network import MLPClassifier\n",
    "from sklearn.metrics import accuracy_score,precision_score,recall_score,f1_score\n"
   ]
  },
  {
   "cell_type": "code",
   "execution_count": 22,
   "id": "a685f477",
   "metadata": {},
   "outputs": [],
   "source": [
    "models={\"Multi-layer Perceptron Classification\": MLPClassifier(hidden_layer_sizes=[20, 20],\n",
    "                                                           learning_rate='adaptive',solver=\"sgd\" ,random_state=8,max_iter = 2000000)}\n",
    "                        "
   ]
  },
  {
   "cell_type": "code",
   "execution_count": 23,
   "id": "c8d92507",
   "metadata": {},
   "outputs": [
    {
     "name": "stdout",
     "output_type": "stream",
     "text": [
      "Accuracy for Multi-layer Perceptron Classification model : 0.9820574162679426\n"
     ]
    }
   ],
   "source": [
    "for model_name, model in models.items():\n",
    "    model.fit(x_train_feature, y_train)\n",
    "    y_pred = model.predict(x_test_feature)\n",
    "    print(f\"Accuracy for {model_name} model : {accuracy_score(y_test, y_pred)}\")"
   ]
  },
  {
   "cell_type": "code",
   "execution_count": 24,
   "id": "f9437625",
   "metadata": {},
   "outputs": [
    {
     "name": "stdout",
     "output_type": "stream",
     "text": [
      "0.979381443298969\n",
      "0.8796296296296297\n",
      "0.926829268292683\n",
      "0.9820574162679426\n"
     ]
    }
   ],
   "source": [
    "print(precision_score(y_test,y_pred))\n",
    "print(recall_score(y_test,y_pred))\n",
    "print(f1_score(y_test,y_pred))\n",
    "print(accuracy_score(y_test,y_pred))"
   ]
  },
  {
   "cell_type": "code",
   "execution_count": 25,
   "id": "ec5dda0c",
   "metadata": {},
   "outputs": [],
   "source": [
    "def predict_message(message):\n",
    "    z = feature_extraction.transform(pd.Series(message))\n",
    "    a = model.predict(z)\n",
    "    if a==1:\n",
    "        return \"Spam\"\n",
    "    else:\n",
    "        return \"Ham\""
   ]
  },
  {
   "cell_type": "code",
   "execution_count": 26,
   "id": "c6f67407",
   "metadata": {},
   "outputs": [
    {
     "data": {
      "text/plain": [
       "'Ham'"
      ]
     },
     "execution_count": 26,
     "metadata": {},
     "output_type": "execute_result"
    }
   ],
   "source": [
    "predict_message(\"Subject: re  indian springs this deal is to book the teco pvr revenue . it is my understanding that tecojust sends us a check , i haven  t received an answer as to whether there is apredermined price associated with this deal or if teco just lets us know whatwe are giving . i can continue to chase this deal down if you need .\")"
   ]
  }
 ],
 "metadata": {
  "kernelspec": {
   "display_name": "Python 3.10.4 64-bit",
   "language": "python",
   "name": "python3"
  },
  "language_info": {
   "codemirror_mode": {
    "name": "ipython",
    "version": 3
   },
   "file_extension": ".py",
   "mimetype": "text/x-python",
   "name": "python",
   "nbconvert_exporter": "python",
   "pygments_lexer": "ipython3",
   "version": "3.10.4"
  },
  "vscode": {
   "interpreter": {
    "hash": "c19fa61d258bb2b35aae2ada233c33e2817c1ce895aa48acba720c6bf7cbe3cb"
   }
  }
 },
 "nbformat": 4,
 "nbformat_minor": 5
}
